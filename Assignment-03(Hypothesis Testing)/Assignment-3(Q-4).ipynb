{
 "cells": [
  {
   "cell_type": "markdown",
   "id": "aff487c7",
   "metadata": {},
   "source": [
    "# *Q4*\n",
    "-  TeleCall uses 4 centers around the globe to process customer order forms. They audit a certain %  of the customer order forms. Any error in order form renders it defective and has to be reworked before processing.  The manager wants to check whether the defective %  varies by centre. Please analyze the data at 5% significance level and help the manager draw appropriate inferences."
   ]
  },
  {
   "cell_type": "code",
   "execution_count": 1,
   "id": "301bcac6",
   "metadata": {
    "ExecuteTime": {
     "end_time": "2023-02-28T14:55:10.709141Z",
     "start_time": "2023-02-28T14:55:10.676782Z"
    }
   },
   "outputs": [],
   "source": [
    "# Assume,\n",
    "# Null Hypothesis as Ho: Ho: Customer order forms defective % does not varies by centre.\n",
    "# Alternate Hypothesis as Ha: Customer order forms defective % varies by centre."
   ]
  },
  {
   "cell_type": "markdown",
   "id": "d8353cbb",
   "metadata": {},
   "source": [
    "## *Chi-Square Test*\n",
    "- Chi2 contengency independence test(\"Goodness of fit test\"):is used to test for the independence of two variable.\n",
    "- It makes a comparison between the Expected Frequencies and the the observed frequencies."
   ]
  },
  {
   "cell_type": "code",
   "execution_count": 2,
   "id": "10ee2f41",
   "metadata": {
    "ExecuteTime": {
     "end_time": "2023-02-28T14:55:14.014385Z",
     "start_time": "2023-02-28T14:55:10.717892Z"
    }
   },
   "outputs": [],
   "source": [
    "#Import Labraries\n",
    "import pandas as pd\n",
    "import numpy as np\n",
    "from scipy import stats\n",
    "from scipy.stats import norm\n",
    "from scipy.stats import chi2_contingency\n",
    "from sklearn import preprocessing\n",
    "\n",
    "\n"
   ]
  },
  {
   "cell_type": "code",
   "execution_count": 3,
   "id": "88aef817",
   "metadata": {
    "ExecuteTime": {
     "end_time": "2023-02-28T14:55:14.079364Z",
     "start_time": "2023-02-28T14:55:14.014711Z"
    }
   },
   "outputs": [
    {
     "data": {
      "text/html": [
       "<div>\n",
       "<style scoped>\n",
       "    .dataframe tbody tr th:only-of-type {\n",
       "        vertical-align: middle;\n",
       "    }\n",
       "\n",
       "    .dataframe tbody tr th {\n",
       "        vertical-align: top;\n",
       "    }\n",
       "\n",
       "    .dataframe thead th {\n",
       "        text-align: right;\n",
       "    }\n",
       "</style>\n",
       "<table border=\"1\" class=\"dataframe\">\n",
       "  <thead>\n",
       "    <tr style=\"text-align: right;\">\n",
       "      <th></th>\n",
       "      <th>Phillippines</th>\n",
       "      <th>Indonesia</th>\n",
       "      <th>Malta</th>\n",
       "      <th>India</th>\n",
       "    </tr>\n",
       "  </thead>\n",
       "  <tbody>\n",
       "    <tr>\n",
       "      <th>0</th>\n",
       "      <td>Error Free</td>\n",
       "      <td>Error Free</td>\n",
       "      <td>Defective</td>\n",
       "      <td>Error Free</td>\n",
       "    </tr>\n",
       "    <tr>\n",
       "      <th>1</th>\n",
       "      <td>Error Free</td>\n",
       "      <td>Error Free</td>\n",
       "      <td>Error Free</td>\n",
       "      <td>Defective</td>\n",
       "    </tr>\n",
       "    <tr>\n",
       "      <th>2</th>\n",
       "      <td>Error Free</td>\n",
       "      <td>Defective</td>\n",
       "      <td>Defective</td>\n",
       "      <td>Error Free</td>\n",
       "    </tr>\n",
       "    <tr>\n",
       "      <th>3</th>\n",
       "      <td>Error Free</td>\n",
       "      <td>Error Free</td>\n",
       "      <td>Error Free</td>\n",
       "      <td>Error Free</td>\n",
       "    </tr>\n",
       "    <tr>\n",
       "      <th>4</th>\n",
       "      <td>Error Free</td>\n",
       "      <td>Error Free</td>\n",
       "      <td>Defective</td>\n",
       "      <td>Error Free</td>\n",
       "    </tr>\n",
       "    <tr>\n",
       "      <th>...</th>\n",
       "      <td>...</td>\n",
       "      <td>...</td>\n",
       "      <td>...</td>\n",
       "      <td>...</td>\n",
       "    </tr>\n",
       "    <tr>\n",
       "      <th>295</th>\n",
       "      <td>Error Free</td>\n",
       "      <td>Error Free</td>\n",
       "      <td>Error Free</td>\n",
       "      <td>Error Free</td>\n",
       "    </tr>\n",
       "    <tr>\n",
       "      <th>296</th>\n",
       "      <td>Error Free</td>\n",
       "      <td>Error Free</td>\n",
       "      <td>Error Free</td>\n",
       "      <td>Error Free</td>\n",
       "    </tr>\n",
       "    <tr>\n",
       "      <th>297</th>\n",
       "      <td>Error Free</td>\n",
       "      <td>Error Free</td>\n",
       "      <td>Defective</td>\n",
       "      <td>Error Free</td>\n",
       "    </tr>\n",
       "    <tr>\n",
       "      <th>298</th>\n",
       "      <td>Error Free</td>\n",
       "      <td>Error Free</td>\n",
       "      <td>Error Free</td>\n",
       "      <td>Error Free</td>\n",
       "    </tr>\n",
       "    <tr>\n",
       "      <th>299</th>\n",
       "      <td>Error Free</td>\n",
       "      <td>Defective</td>\n",
       "      <td>Defective</td>\n",
       "      <td>Error Free</td>\n",
       "    </tr>\n",
       "  </tbody>\n",
       "</table>\n",
       "<p>300 rows × 4 columns</p>\n",
       "</div>"
      ],
      "text/plain": [
       "    Phillippines   Indonesia       Malta       India\n",
       "0     Error Free  Error Free   Defective  Error Free\n",
       "1     Error Free  Error Free  Error Free   Defective\n",
       "2     Error Free   Defective   Defective  Error Free\n",
       "3     Error Free  Error Free  Error Free  Error Free\n",
       "4     Error Free  Error Free   Defective  Error Free\n",
       "..           ...         ...         ...         ...\n",
       "295   Error Free  Error Free  Error Free  Error Free\n",
       "296   Error Free  Error Free  Error Free  Error Free\n",
       "297   Error Free  Error Free   Defective  Error Free\n",
       "298   Error Free  Error Free  Error Free  Error Free\n",
       "299   Error Free   Defective   Defective  Error Free\n",
       "\n",
       "[300 rows x 4 columns]"
      ]
     },
     "execution_count": 3,
     "metadata": {},
     "output_type": "execute_result"
    }
   ],
   "source": [
    "#Import Dataset\n",
    "OrderForm = pd.read_csv(r\"Costomer+OrderForm (1).csv\")\n",
    "OrderForm"
   ]
  },
  {
   "cell_type": "code",
   "execution_count": 4,
   "id": "c4b08f5e",
   "metadata": {
    "ExecuteTime": {
     "end_time": "2023-02-28T14:55:14.095351Z",
     "start_time": "2023-02-28T14:55:14.079364Z"
    }
   },
   "outputs": [],
   "source": [
    "label_encoder = preprocessing.LabelEncoder()"
   ]
  },
  {
   "cell_type": "code",
   "execution_count": 5,
   "id": "9895aba6",
   "metadata": {
    "ExecuteTime": {
     "end_time": "2023-02-28T14:55:14.127621Z",
     "start_time": "2023-02-28T14:55:14.095351Z"
    }
   },
   "outputs": [],
   "source": [
    "OrderForm[\"Phillippines\"] = label_encoder.fit_transform(OrderForm[\"Phillippines\"])\n",
    "OrderForm[\"Indonesia\"] = label_encoder.fit_transform(OrderForm[\"Indonesia\"])\n",
    "OrderForm[\"Malta\"] = label_encoder.fit_transform(OrderForm[\"Malta\"])\n",
    "OrderForm[\"India\"] = label_encoder.fit_transform(OrderForm[\"India\"])"
   ]
  },
  {
   "cell_type": "code",
   "execution_count": 6,
   "id": "3974c2f9",
   "metadata": {
    "ExecuteTime": {
     "end_time": "2023-02-28T14:55:14.152354Z",
     "start_time": "2023-02-28T14:55:14.127742Z"
    }
   },
   "outputs": [
    {
     "data": {
      "text/plain": [
       "0      1\n",
       "1      1\n",
       "2      1\n",
       "3      1\n",
       "4      1\n",
       "      ..\n",
       "295    1\n",
       "296    1\n",
       "297    1\n",
       "298    1\n",
       "299    1\n",
       "Name: Phillippines, Length: 300, dtype: int32"
      ]
     },
     "execution_count": 6,
     "metadata": {},
     "output_type": "execute_result"
    }
   ],
   "source": [
    "OrderForm[\"Phillippines\"]  # [1 : Error Free, 0: Defective]\n",
    "        "
   ]
  },
  {
   "cell_type": "code",
   "execution_count": 7,
   "id": "ef7b2c51",
   "metadata": {
    "ExecuteTime": {
     "end_time": "2023-02-28T14:55:14.185017Z",
     "start_time": "2023-02-28T14:55:14.152354Z"
    }
   },
   "outputs": [
    {
     "data": {
      "text/plain": [
       "0      1\n",
       "1      0\n",
       "2      1\n",
       "3      1\n",
       "4      1\n",
       "      ..\n",
       "295    1\n",
       "296    1\n",
       "297    1\n",
       "298    1\n",
       "299    1\n",
       "Name: India, Length: 300, dtype: int32"
      ]
     },
     "execution_count": 7,
     "metadata": {},
     "output_type": "execute_result"
    }
   ],
   "source": [
    "OrderForm[\"India\"]    # [1: Error Free, 0: Defective]"
   ]
  },
  {
   "cell_type": "code",
   "execution_count": 8,
   "id": "89297b3d",
   "metadata": {
    "ExecuteTime": {
     "end_time": "2023-02-28T14:55:14.217389Z",
     "start_time": "2023-02-28T14:55:14.185135Z"
    }
   },
   "outputs": [
    {
     "data": {
      "text/plain": [
       "(112.74730231885849,\n",
       " 1.0,\n",
       " 897,\n",
       " array([[0.74793008, 0.73689052, 0.7424103 , 0.77276909],\n",
       "        [0.74793008, 0.73689052, 0.7424103 , 0.77276909],\n",
       "        [0.49862006, 0.49126035, 0.4949402 , 0.51517939],\n",
       "        ...,\n",
       "        [0.74793008, 0.73689052, 0.7424103 , 0.77276909],\n",
       "        [0.99724011, 0.9825207 , 0.9898804 , 1.03035879],\n",
       "        [0.49862006, 0.49126035, 0.4949402 , 0.51517939]]))"
      ]
     },
     "execution_count": 8,
     "metadata": {},
     "output_type": "execute_result"
    }
   ],
   "source": [
    "chi2 = chi2_contingency(OrderForm)  # Return (Chi2 stats value,pvalue,df,expected obs)\n",
    "chi2"
   ]
  },
  {
   "cell_type": "code",
   "execution_count": 9,
   "id": "9f9b80e0",
   "metadata": {
    "ExecuteTime": {
     "end_time": "2023-02-28T14:55:14.249919Z",
     "start_time": "2023-02-28T14:55:14.217491Z"
    }
   },
   "outputs": [
    {
     "data": {
      "text/plain": [
       "1.0"
      ]
     },
     "execution_count": 9,
     "metadata": {},
     "output_type": "execute_result"
    }
   ],
   "source": [
    "pvalue=chi2[1]\n",
    "pvalue"
   ]
  },
  {
   "cell_type": "markdown",
   "id": "32ce8269",
   "metadata": {},
   "source": [
    "\n",
    "- alpha(Significance level) = 5% = 0.05\n",
    "- pvalue = 1.0\n",
    "- Comparing Both the values->>>>     pvalue>alpha(5% significance level)"
   ]
  },
  {
   "cell_type": "code",
   "execution_count": 10,
   "id": "4c5505fb",
   "metadata": {
    "ExecuteTime": {
     "end_time": "2023-02-28T14:55:14.273928Z",
     "start_time": "2023-02-28T14:55:14.257928Z"
    }
   },
   "outputs": [
    {
     "name": "stdout",
     "output_type": "stream",
     "text": [
      "Customer order forms defective % does not varies by centre.\n"
     ]
    }
   ],
   "source": [
    "# Decision: Failed to reject Null Hypothesis(Ho: Customer order forms defective % does not varies by centre.)\n",
    "print(\"Customer order forms defective % does not varies by centre.\")"
   ]
  },
  {
   "cell_type": "code",
   "execution_count": null,
   "id": "68277017",
   "metadata": {},
   "outputs": [],
   "source": []
  }
 ],
 "metadata": {
  "kernelspec": {
   "display_name": "Python 3 (ipykernel)",
   "language": "python",
   "name": "python3"
  },
  "language_info": {
   "codemirror_mode": {
    "name": "ipython",
    "version": 3
   },
   "file_extension": ".py",
   "mimetype": "text/x-python",
   "name": "python",
   "nbconvert_exporter": "python",
   "pygments_lexer": "ipython3",
   "version": "3.9.13"
  }
 },
 "nbformat": 4,
 "nbformat_minor": 5
}
